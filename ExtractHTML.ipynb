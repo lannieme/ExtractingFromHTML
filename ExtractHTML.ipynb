{
 "cells": [
  {
   "cell_type": "code",
   "execution_count": 4,
   "metadata": {
    "collapsed": false
   },
   "outputs": [
    {
     "name": "stdout",
     "output_type": "stream",
     "text": [
      "[u'Bronx\\xa0CB\\xa01', u'Bronx\\xa0CB\\xa01', u'Bronx\\xa0CB\\xa02', u'Bronx\\xa0CB\\xa03', u'Bronx\\xa0CB\\xa04', u'Bronx\\xa0CB\\xa05', u'Bronx\\xa0CB\\xa06', u'Bronx\\xa0CB\\xa07', u'Bronx\\xa0CB\\xa08', u'Bronx\\xa0CB\\xa09', u'Bronx\\xa0CB\\xa010', u'Bronx\\xa0CB\\xa011', u'Bronx\\xa0CB\\xa012', u'Brooklyn\\xa0CB\\xa01', u'Brooklyn\\xa0CB\\xa02', u'Brooklyn\\xa0CB\\xa03', u'Brooklyn\\xa0CB\\xa04', u'Brooklyn\\xa0CB\\xa05', u'Brooklyn\\xa0CB\\xa06', u'Brooklyn\\xa0CB\\xa07', u'Brooklyn\\xa0CB\\xa08', u'Brooklyn\\xa0CB\\xa09', u'Brooklyn\\xa0CB\\xa010', u'Brooklyn\\xa0CB\\xa011', u'Brooklyn\\xa0CB\\xa012', u'Brooklyn\\xa0CB\\xa013', u'Brooklyn\\xa0CB\\xa014', u'Brooklyn\\xa0CB\\xa015', u'Brooklyn\\xa0CB\\xa016', u'Brooklyn\\xa0CB\\xa017', u'Brooklyn\\xa0CB\\xa018', u'Manhattan\\xa0CB\\xa01', u'Manhattan\\xa0CB\\xa02', u'Manhattan\\xa0CB\\xa03', u'Manhattan\\xa0CB\\xa04', u'Manhattan\\xa0CB\\xa05', u'Manhattan\\xa0CB\\xa06', u'Manhattan\\xa0CB\\xa07', u'Manhattan\\xa0CB\\xa08', u'Manhattan\\xa0CB\\xa09', u'Manhattan\\xa0CB\\xa010', u'Manhattan\\xa0CB\\xa011', u'Manhattan\\xa0CB\\xa012', u'Queens\\xa0CB\\xa01', u'Queens\\xa0CB\\xa02', u'Queens\\xa0CB\\xa03', u'Queens\\xa0CB\\xa04', u'Queens\\xa0CB\\xa05', u'Queens\\xa0CB\\xa06', u'Queens\\xa0CB\\xa07', u'Queens\\xa0CB\\xa08', u'Queens\\xa0CB\\xa09', u'Queens\\xa0CB\\xa010', u'Queens\\xa0CB\\xa011', u'Queens\\xa0CB\\xa012', u'Queens\\xa0CB\\xa013', u'Queens\\xa0CB\\xa014', u'Staten\\xa0Island\\xa0CB\\xa01', u'Staten\\xa0Island\\xa0CB\\xa02', u'Staten\\xa0Island\\xa0CB\\xa03', u'New York City']\n"
     ]
    }
   ],
   "source": [
    "import requests\n",
    "from bs4 import BeautifulSoup\n",
    "import sqlite3\n",
    "response = requests.get('https://en.wikipedia.org/wiki/Neighborhoods_in_New_York_City')\n",
    "soup = BeautifulSoup(response.text, 'html.parser')\n",
    "\n",
    "allTr = soup.table.findAll('tr')\n",
    "neighborhoodList = []\n",
    "for tr in allTr:\n",
    "    neighborhood = tr.findNext('td').text\n",
    "    neighborhoodList.append(neighborhood)\n",
    "print neighborhoodList"
   ]
  },
  {
   "cell_type": "code",
   "execution_count": 5,
   "metadata": {
    "collapsed": true
   },
   "outputs": [],
   "source": [
    "conn = sqlite3.connect('neighborhood.db')"
   ]
  },
  {
   "cell_type": "code",
   "execution_count": 23,
   "metadata": {
    "collapsed": false
   },
   "outputs": [
    {
     "data": {
      "text/plain": [
       "<sqlite3.Cursor at 0x10706fc00>"
      ]
     },
     "execution_count": 23,
     "metadata": {},
     "output_type": "execute_result"
    }
   ],
   "source": [
    "c = conn.cursor()\n",
    "\n",
    "# Create table\n",
    "c.execute('''CREATE TABLE neighborhoods\n",
    "             (ID INTEGER PRIMARY KEY AUTOINCREMENT, NeighborhoodName VARCHAR)''')\n",
    "\n"
   ]
  },
  {
   "cell_type": "code",
   "execution_count": 25,
   "metadata": {
    "collapsed": false
   },
   "outputs": [],
   "source": [
    "for i in range(len(neighborhoodList)): \n",
    "    query = \"INSERT INTO neighborhoods (NeighborhoodName) VALUES (?)\"\n",
    "    c.execute(query, [neighborhoodList[i]])"
   ]
  },
  {
   "cell_type": "code",
   "execution_count": 26,
   "metadata": {
    "collapsed": false
   },
   "outputs": [
    {
     "name": "stdout",
     "output_type": "stream",
     "text": [
      "[(1, u'Bronx\\xa0CB\\xa01'), (2, u'Bronx\\xa0CB\\xa01'), (3, u'Bronx\\xa0CB\\xa02'), (4, u'Bronx\\xa0CB\\xa03'), (5, u'Bronx\\xa0CB\\xa04'), (6, u'Bronx\\xa0CB\\xa05'), (7, u'Bronx\\xa0CB\\xa06'), (8, u'Bronx\\xa0CB\\xa07'), (9, u'Bronx\\xa0CB\\xa08'), (10, u'Bronx\\xa0CB\\xa09'), (11, u'Bronx\\xa0CB\\xa010'), (12, u'Bronx\\xa0CB\\xa011'), (13, u'Bronx\\xa0CB\\xa012'), (14, u'Brooklyn\\xa0CB\\xa01'), (15, u'Brooklyn\\xa0CB\\xa02'), (16, u'Brooklyn\\xa0CB\\xa03'), (17, u'Brooklyn\\xa0CB\\xa04'), (18, u'Brooklyn\\xa0CB\\xa05'), (19, u'Brooklyn\\xa0CB\\xa06'), (20, u'Brooklyn\\xa0CB\\xa07'), (21, u'Brooklyn\\xa0CB\\xa08'), (22, u'Brooklyn\\xa0CB\\xa09'), (23, u'Brooklyn\\xa0CB\\xa010'), (24, u'Brooklyn\\xa0CB\\xa011'), (25, u'Brooklyn\\xa0CB\\xa012'), (26, u'Brooklyn\\xa0CB\\xa013'), (27, u'Brooklyn\\xa0CB\\xa014'), (28, u'Brooklyn\\xa0CB\\xa015'), (29, u'Brooklyn\\xa0CB\\xa016'), (30, u'Brooklyn\\xa0CB\\xa017'), (31, u'Brooklyn\\xa0CB\\xa018'), (32, u'Manhattan\\xa0CB\\xa01'), (33, u'Manhattan\\xa0CB\\xa02'), (34, u'Manhattan\\xa0CB\\xa03'), (35, u'Manhattan\\xa0CB\\xa04'), (36, u'Manhattan\\xa0CB\\xa05'), (37, u'Manhattan\\xa0CB\\xa06'), (38, u'Manhattan\\xa0CB\\xa07'), (39, u'Manhattan\\xa0CB\\xa08'), (40, u'Manhattan\\xa0CB\\xa09'), (41, u'Manhattan\\xa0CB\\xa010'), (42, u'Manhattan\\xa0CB\\xa011'), (43, u'Manhattan\\xa0CB\\xa012'), (44, u'Queens\\xa0CB\\xa01'), (45, u'Queens\\xa0CB\\xa02'), (46, u'Queens\\xa0CB\\xa03'), (47, u'Queens\\xa0CB\\xa04'), (48, u'Queens\\xa0CB\\xa05'), (49, u'Queens\\xa0CB\\xa06'), (50, u'Queens\\xa0CB\\xa07'), (51, u'Queens\\xa0CB\\xa08'), (52, u'Queens\\xa0CB\\xa09'), (53, u'Queens\\xa0CB\\xa010'), (54, u'Queens\\xa0CB\\xa011'), (55, u'Queens\\xa0CB\\xa012'), (56, u'Queens\\xa0CB\\xa013'), (57, u'Queens\\xa0CB\\xa014'), (58, u'Staten\\xa0Island\\xa0CB\\xa01'), (59, u'Staten\\xa0Island\\xa0CB\\xa02'), (60, u'Staten\\xa0Island\\xa0CB\\xa03'), (61, u'New York City')]\n"
     ]
    }
   ],
   "source": [
    "selectquery = \"SELECT * FROM neighborhoods\"\n",
    "c.execute(selectquery)\n",
    "all =  c.fetchall()\n",
    "c.close()\n",
    "print all"
   ]
  },
  {
   "cell_type": "code",
   "execution_count": null,
   "metadata": {
    "collapsed": true
   },
   "outputs": [],
   "source": []
  }
 ],
 "metadata": {
  "anaconda-cloud": {},
  "kernelspec": {
   "display_name": "Python [Root]",
   "language": "python",
   "name": "Python [Root]"
  },
  "language_info": {
   "codemirror_mode": {
    "name": "ipython",
    "version": 2
   },
   "file_extension": ".py",
   "mimetype": "text/x-python",
   "name": "python",
   "nbconvert_exporter": "python",
   "pygments_lexer": "ipython2",
   "version": "2.7.12"
  }
 },
 "nbformat": 4,
 "nbformat_minor": 0
}
